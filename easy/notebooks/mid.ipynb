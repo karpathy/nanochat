{
 "cells": [
  {
   "cell_type": "markdown",
   "id": "32308354",
   "metadata": {},
   "source": [
    "# NanoChat Easy - Mid Training\n",
    "\n"
   ]
  },
  {
   "cell_type": "markdown",
   "id": "3ac6ee87",
   "metadata": {},
   "source": [
    "## Import model and tokenizer"
   ]
  },
  {
   "cell_type": "code",
   "execution_count": 16,
   "id": "3e48247c",
   "metadata": {},
   "outputs": [],
   "source": [
    "import torch\n",
    "from torch.utils.data import DataLoader\n",
    "from datasets import load_dataset\n",
    "from transformers import AutoModelForCausalLM, AutoTokenizer, get_cosine_schedule_with_warmup\n",
    "\n",
    "\n",
    "model_id = \"karpathy/nanochat-d32\"\n",
    "revision = \"refs/pr/1\"\n",
    "device = torch.device(\"cuda\" if torch.cuda.is_available() else \"cpu\")\n",
    "\n",
    "\n",
    "tokenizer = AutoTokenizer.from_pretrained(model_id, revision=revision)\n",
    "model = AutoModelForCausalLM.from_pretrained(\n",
    "    model_id,\n",
    "    revision=revision,\n",
    "    torch_dtype=torch.bfloat16 if device.type == \"cuda\" else torch.float32,\n",
    ").to(device)"
   ]
  },
  {
   "cell_type": "markdown",
   "id": "552d9bf2",
   "metadata": {},
   "source": [
    "## Setup LoRA"
   ]
  },
  {
   "cell_type": "code",
   "execution_count": 17,
   "id": "694797cd",
   "metadata": {},
   "outputs": [
    {
     "name": "stdout",
     "output_type": "stream",
     "text": [
      "trainable params: 1,179,648 || all params: 1,880,227,840 || trainable%: 0.0627\n"
     ]
    }
   ],
   "source": [
    "from peft import LoraConfig, get_peft_model\n",
    "\n",
    "lora_config = LoraConfig(\n",
    "    r=1,\n",
    "    lora_alpha=2,\n",
    "    lora_dropout=0.00,\n",
    "    task_type=\"CAUSAL_LM\",\n",
    "    target_modules=[\"q_proj\", \"k_proj\", \"v_proj\", \"o_proj\", \"fc1\", \"fc2\"]\n",
    ")\n",
    "\n",
    "model = get_peft_model(model, lora_config)\n",
    "model.print_trainable_parameters()"
   ]
  },
  {
   "cell_type": "code",
   "execution_count": 18,
   "id": "7a5ae7c2",
   "metadata": {},
   "outputs": [
    {
     "data": {
      "text/plain": [
       "<bound method Module.modules of PeftModelForCausalLM(\n",
       "  (base_model): LoraModel(\n",
       "    (model): NanoChatForCausalLM(\n",
       "      (model): NanoChatModel(\n",
       "        (initial_norm): NanoChatRMSNorm(eps=1e-06)\n",
       "        (layers): ModuleList(\n",
       "          (0-31): 32 x NanoChatDecoderLayer(\n",
       "            (self_attn): NanoChatAttention(\n",
       "              (q_proj): lora.Linear(\n",
       "                (base_layer): Linear(in_features=2048, out_features=2048, bias=False)\n",
       "                (lora_dropout): ModuleDict(\n",
       "                  (default): Identity()\n",
       "                )\n",
       "                (lora_A): ModuleDict(\n",
       "                  (default): Linear(in_features=2048, out_features=1, bias=False)\n",
       "                )\n",
       "                (lora_B): ModuleDict(\n",
       "                  (default): Linear(in_features=1, out_features=2048, bias=False)\n",
       "                )\n",
       "                (lora_embedding_A): ParameterDict()\n",
       "                (lora_embedding_B): ParameterDict()\n",
       "                (lora_magnitude_vector): ModuleDict()\n",
       "              )\n",
       "              (k_proj): lora.Linear(\n",
       "                (base_layer): Linear(in_features=2048, out_features=2048, bias=False)\n",
       "                (lora_dropout): ModuleDict(\n",
       "                  (default): Identity()\n",
       "                )\n",
       "                (lora_A): ModuleDict(\n",
       "                  (default): Linear(in_features=2048, out_features=1, bias=False)\n",
       "                )\n",
       "                (lora_B): ModuleDict(\n",
       "                  (default): Linear(in_features=1, out_features=2048, bias=False)\n",
       "                )\n",
       "                (lora_embedding_A): ParameterDict()\n",
       "                (lora_embedding_B): ParameterDict()\n",
       "                (lora_magnitude_vector): ModuleDict()\n",
       "              )\n",
       "              (v_proj): lora.Linear(\n",
       "                (base_layer): Linear(in_features=2048, out_features=2048, bias=False)\n",
       "                (lora_dropout): ModuleDict(\n",
       "                  (default): Identity()\n",
       "                )\n",
       "                (lora_A): ModuleDict(\n",
       "                  (default): Linear(in_features=2048, out_features=1, bias=False)\n",
       "                )\n",
       "                (lora_B): ModuleDict(\n",
       "                  (default): Linear(in_features=1, out_features=2048, bias=False)\n",
       "                )\n",
       "                (lora_embedding_A): ParameterDict()\n",
       "                (lora_embedding_B): ParameterDict()\n",
       "                (lora_magnitude_vector): ModuleDict()\n",
       "              )\n",
       "              (o_proj): lora.Linear(\n",
       "                (base_layer): Linear(in_features=2048, out_features=2048, bias=False)\n",
       "                (lora_dropout): ModuleDict(\n",
       "                  (default): Identity()\n",
       "                )\n",
       "                (lora_A): ModuleDict(\n",
       "                  (default): Linear(in_features=2048, out_features=1, bias=False)\n",
       "                )\n",
       "                (lora_B): ModuleDict(\n",
       "                  (default): Linear(in_features=1, out_features=2048, bias=False)\n",
       "                )\n",
       "                (lora_embedding_A): ParameterDict()\n",
       "                (lora_embedding_B): ParameterDict()\n",
       "                (lora_magnitude_vector): ModuleDict()\n",
       "              )\n",
       "              (q_norm): NanoChatRMSNorm(eps=1e-06)\n",
       "              (k_norm): NanoChatRMSNorm(eps=1e-06)\n",
       "            )\n",
       "            (mlp): NanoChatMLP(\n",
       "              (activation_fn): ReLUSquaredActivation()\n",
       "              (fc1): lora.Linear(\n",
       "                (base_layer): Linear(in_features=2048, out_features=8192, bias=False)\n",
       "                (lora_dropout): ModuleDict(\n",
       "                  (default): Identity()\n",
       "                )\n",
       "                (lora_A): ModuleDict(\n",
       "                  (default): Linear(in_features=2048, out_features=1, bias=False)\n",
       "                )\n",
       "                (lora_B): ModuleDict(\n",
       "                  (default): Linear(in_features=1, out_features=8192, bias=False)\n",
       "                )\n",
       "                (lora_embedding_A): ParameterDict()\n",
       "                (lora_embedding_B): ParameterDict()\n",
       "                (lora_magnitude_vector): ModuleDict()\n",
       "              )\n",
       "              (fc2): lora.Linear(\n",
       "                (base_layer): Linear(in_features=8192, out_features=2048, bias=False)\n",
       "                (lora_dropout): ModuleDict(\n",
       "                  (default): Identity()\n",
       "                )\n",
       "                (lora_A): ModuleDict(\n",
       "                  (default): Linear(in_features=8192, out_features=1, bias=False)\n",
       "                )\n",
       "                (lora_B): ModuleDict(\n",
       "                  (default): Linear(in_features=1, out_features=2048, bias=False)\n",
       "                )\n",
       "                (lora_embedding_A): ParameterDict()\n",
       "                (lora_embedding_B): ParameterDict()\n",
       "                (lora_magnitude_vector): ModuleDict()\n",
       "              )\n",
       "            )\n",
       "            (input_layernorm): NanoChatRMSNorm(eps=1e-06)\n",
       "            (post_attention_layernorm): NanoChatRMSNorm(eps=1e-06)\n",
       "          )\n",
       "        )\n",
       "        (norm): NanoChatRMSNorm(eps=1e-06)\n",
       "        (rotary_emb): NanoChatRotaryEmbedding()\n",
       "        (embed_tokens): Embedding(65536, 2048, padding_idx=65531)\n",
       "      )\n",
       "      (lm_head): Linear(in_features=2048, out_features=65536, bias=False)\n",
       "    )\n",
       "  )\n",
       ")>"
      ]
     },
     "execution_count": 18,
     "metadata": {},
     "output_type": "execute_result"
    }
   ],
   "source": [
    "model.modules"
   ]
  },
  {
   "cell_type": "markdown",
   "id": "9efc759d",
   "metadata": {},
   "source": [
    "## Demo the model"
   ]
  },
  {
   "cell_type": "code",
   "execution_count": 19,
   "id": "e24b4d79",
   "metadata": {},
   "outputs": [
    {
     "name": "stdout",
     "output_type": "stream",
     "text": [
      "================================================================================\n",
      "TEST 1: Plain Autoregressive Prompt\n",
      "================================================================================\n",
      "Prompt: The Eiffel Tower stands in Paris and\n",
      "\n",
      "Generated:  is one of the most famous landmarks in the world. It is located on the Champ de Mars in the heart of the city. The tower was built for the 1889 World's Fair. It was designed by the French engineer Gustave Eiffel and took 2 years to build. The Eiffel Tower stands 324 meters\n",
      "================================================================================\n"
     ]
    }
   ],
   "source": [
    "print(\"=\" * 80)\n",
    "print(\"TEST 1: Plain Autoregressive Prompt\")\n",
    "print(\"=\" * 80)\n",
    "prompt = \"The Eiffel Tower stands in Paris and\"\n",
    "test_inputs = tokenizer(prompt, return_tensors=\"pt\").to(device)\n",
    "\n",
    "\n",
    "with torch.no_grad():\n",
    "    test_outputs = model.generate(\n",
    "        **test_inputs,\n",
    "        max_new_tokens=64,\n",
    "        do_sample=False,\n",
    "        pad_token_id=tokenizer.pad_token_id,\n",
    "    )\n",
    "\n",
    "generated_tokens = test_outputs[0, test_inputs[\"input_ids\"].shape[1] :]\n",
    "print(f\"Prompt: {prompt}\")\n",
    "print(f\"\\nGenerated: {tokenizer.decode(generated_tokens, skip_special_tokens=True)}\")\n",
    "print(\"=\" * 80)"
   ]
  },
  {
   "cell_type": "code",
   "execution_count": 20,
   "id": "df4cea00",
   "metadata": {},
   "outputs": [
    {
     "name": "stdout",
     "output_type": "stream",
     "text": [
      "================================================================================\n",
      "TEST 2: Chat Template\n",
      "================================================================================\n",
      "Formatted prompt: <|bos|><|user_start|>What is the capital of France?<|user_end|><|assistant_start|>\n",
      "Input IDs: [65527, 65528, 1442, 309, 261, 3429, 281, 4215, 63, 65529, 65530]\n",
      "\n",
      "Generated: The capital of France is Paris.<|assistant_end|>\n",
      "================================================================================\n"
     ]
    }
   ],
   "source": [
    "print(\"=\" * 80)\n",
    "print(\"TEST 2: Chat Template\")\n",
    "print(\"=\"*80)\n",
    "conversation = [\n",
    "    {\"role\": \"user\", \"content\": \"What is the capital of France?\"},\n",
    "]\n",
    "\n",
    "inputs = tokenizer.apply_chat_template(\n",
    "    conversation, add_generation_prompt=True, tokenize=True, return_dict=True, return_tensors=\"pt\"\n",
    ").to(device)\n",
    "\n",
    "print(f\"Formatted prompt: {tokenizer.decode(inputs['input_ids'][0])}\")\n",
    "print(f\"Input IDs: {inputs['input_ids'][0].tolist()}\")\n",
    "\n",
    "with torch.no_grad():\n",
    "    outputs = model.generate(\n",
    "        **inputs,\n",
    "        max_new_tokens=64,\n",
    "        do_sample=False\n",
    "    )\n",
    "\n",
    "generated_tokens = outputs[0, inputs[\"input_ids\"].shape[1] :]\n",
    "print(f\"\\nGenerated: {tokenizer.decode(generated_tokens)}\")\n",
    "print(\"=\" * 80)"
   ]
  },
  {
   "cell_type": "markdown",
   "id": "8aef235f",
   "metadata": {},
   "source": [
    "## Dataset"
   ]
  },
  {
   "cell_type": "code",
   "execution_count": 8,
   "id": "bed3514d",
   "metadata": {},
   "outputs": [
    {
     "name": "stderr",
     "output_type": "stream",
     "text": [
      "Downloading data: 100%|██████████| 124/124 [05:16<00:00,  2.55s/files]\n",
      "Downloading data: 100%|██████████| 113/113 [04:23<00:00,  2.33s/files]\n",
      "Generating Llama_Nemotron_Post_Training_Dataset_reasoning_r1 split: 100%|██████████| 3644790/3644790 [02:07<00:00, 28616.91 examples/s]\n",
      "Generating OpenThoughts3_1.2M split:  12%|█▏        | 135598/1135104 [00:15<01:44, 9528.89 examples/s]"
     ]
    }
   ],
   "source": [
    "raw_dataset = load_dataset(\"HuggingFaceTB/smoltalk2\", \"Mid\", split=\"OpenThoughts3_1.2M\")\n",
    "splits = raw_dataset.train_test_split(test_size=0.05, seed=13)\n",
    "train_dataset = splits[\"train\"]\n",
    "eval_dataset = splits[\"test\"]"
   ]
  },
  {
   "cell_type": "markdown",
   "id": "b224ad5f",
   "metadata": {},
   "source": [
    "### Process the Dataset"
   ]
  },
  {
   "cell_type": "code",
   "execution_count": 24,
   "id": "c43c23e4",
   "metadata": {},
   "outputs": [
    {
     "name": "stderr",
     "output_type": "stream",
     "text": [
      "Map:   0%|          | 0/20000 [00:00<?, ? examples/s]"
     ]
    },
    {
     "name": "stderr",
     "output_type": "stream",
     "text": [
      "Map: 100%|██████████| 20000/20000 [06:49<00:00, 48.90 examples/s]\n",
      "Map: 100%|██████████| 128/128 [00:02<00:00, 45.46 examples/s]\n"
     ]
    }
   ],
   "source": [
    "max_length = 2048\n",
    "max_train_examples = 20000\n",
    "max_eval_examples = 128\n",
    "\n",
    "def flatten_messages(messages):\n",
    "    lines = []\n",
    "    for msg in messages:\n",
    "        role = msg.get(\"role\", \"\")\n",
    "        content = msg.get(\"content\", \"\")\n",
    "        if role:\n",
    "            lines.append(f\"{role.upper()}: {content}\")\n",
    "        else:\n",
    "            lines.append(content)\n",
    "    return \"\\n\".join(lines)\n",
    "\n",
    "def tokenize_example(example):\n",
    "    text = flatten_messages(example[\"messages\"])\n",
    "    tokenized = tokenizer(\n",
    "        text,\n",
    "        truncation=True,\n",
    "        max_length=max_length,\n",
    "        padding=False,\n",
    "    )\n",
    "    return {\n",
    "        \"input_ids\": tokenized[\"input_ids\"],\n",
    "        \"attention_mask\": tokenized[\"attention_mask\"],\n",
    "    }\n",
    "\n",
    "\n",
    "if max_train_examples is not None:\n",
    "    train_dataset = train_dataset.select(range(min(len(train_dataset), max_train_examples)))\n",
    "    train_dataset = train_dataset.map(tokenize_example, remove_columns=train_dataset.column_names)\n",
    "if max_eval_examples is not None:\n",
    "    eval_dataset = eval_dataset.select(range(min(len(eval_dataset), max_eval_examples)))\n",
    "    eval_dataset = eval_dataset.map(tokenize_example, remove_columns=eval_dataset.column_names)"
   ]
  },
  {
   "cell_type": "markdown",
   "id": "04424c5c",
   "metadata": {},
   "source": [
    "## Training Configuration"
   ]
  },
  {
   "cell_type": "code",
   "execution_count": 27,
   "id": "56e5d480",
   "metadata": {},
   "outputs": [],
   "source": [
    "train_batch_size = 1\n",
    "eval_batch_size = 1\n",
    "num_epochs = 1\n",
    "gradient_accumulation_steps = 16\n",
    "learning_rate = 6e-5\n",
    "weight_decay = 0.01\n",
    "adam_beta1 = 0.9\n",
    "adam_beta2 = 0.95\n",
    "warmup_ratio = 0.02\n",
    "logging_frequency = 20"
   ]
  },
  {
   "cell_type": "markdown",
   "id": "cd522d0d",
   "metadata": {},
   "source": [
    "## Create a `DataLoader` 👴"
   ]
  },
  {
   "cell_type": "code",
   "execution_count": 30,
   "id": "9e73233b",
   "metadata": {},
   "outputs": [],
   "source": [
    "def collate_fn(batch):\n",
    "    batch_dict = {\n",
    "        \"input_ids\": [record[\"input_ids\"] for record in batch],\n",
    "        \"attention_mask\": [record[\"attention_mask\"] for record in batch],\n",
    "    }\n",
    "    padded = tokenizer.pad(batch_dict, padding=True, return_tensors=\"pt\")\n",
    "    labels = padded[\"input_ids\"].clone()\n",
    "    labels[padded[\"attention_mask\"] == 0] = -100\n",
    "    padded[\"labels\"] = labels\n",
    "    return padded\n",
    "\n",
    "\n",
    "TrainLoader = DataLoader(train_dataset, batch_size=train_batch_size, shuffle=True, collate_fn=collate_fn)\n",
    "EvalLoader = DataLoader(eval_dataset, batch_size=eval_batch_size, shuffle=False, collate_fn=collate_fn)\n"
   ]
  },
  {
   "cell_type": "markdown",
   "id": "d90ab86c",
   "metadata": {},
   "source": [
    "## Optimizer"
   ]
  },
  {
   "cell_type": "code",
   "execution_count": 31,
   "id": "4f22f9f2",
   "metadata": {},
   "outputs": [],
   "source": [
    "optimizer = torch.optim.AdamW(\n",
    "    model.parameters(),\n",
    "    lr=learning_rate,\n",
    "    betas=(adam_beta1, adam_beta2),\n",
    "    weight_decay=weight_decay,\n",
    ")"
   ]
  },
  {
   "cell_type": "markdown",
   "id": "955f5ed2",
   "metadata": {},
   "source": [
    "# Learning Rate Scheduler"
   ]
  },
  {
   "cell_type": "code",
   "execution_count": 32,
   "id": "989a6f00",
   "metadata": {},
   "outputs": [],
   "source": [
    "num_update_steps_per_epoch = max(len(TrainLoader) // gradient_accumulation_steps, 1)\n",
    "max_train_steps = num_epochs * num_update_steps_per_epoch\n",
    "warmup_steps = max(1, int(max_train_steps * warmup_ratio))\n",
    "scheduler = get_cosine_schedule_with_warmup(optimizer, warmup_steps, max_train_steps)"
   ]
  },
  {
   "cell_type": "markdown",
   "id": "58503356",
   "metadata": {},
   "source": [
    "# The Training Loop"
   ]
  },
  {
   "cell_type": "code",
   "execution_count": null,
   "id": "2e0fcfed",
   "metadata": {},
   "outputs": [
    {
     "name": "stderr",
     "output_type": "stream",
     "text": [
      "You're using a PreTrainedTokenizerFast tokenizer. Please note that with a fast tokenizer, using the `__call__` method is faster than using a method to encode the text followed by a call to the `pad` method to get a padded encoding.\n"
     ]
    },
    {
     "name": "stdout",
     "output_type": "stream",
     "text": [
      "Epoch 1/1\n",
      "step=00020 | loss=1.7836 | lr=4.80e-05\n",
      "step=00040 | loss=1.7800 | lr=6.00e-05\n",
      "step=00060 | loss=1.8128 | lr=5.99e-05\n",
      "step=00080 | loss=1.7713 | lr=5.97e-05\n",
      "step=00100 | loss=1.7851 | lr=5.94e-05\n"
     ]
    }
   ],
   "source": [
    "\n",
    "model.train()\n",
    "global_step = 0\n",
    "running_loss = 0.0\n",
    "running_steps = 0\n",
    "\n",
    "for epoch in range(num_epochs):\n",
    "    print(f\"Epoch {epoch + 1}/{num_epochs}\")\n",
    "    optimizer.zero_grad(set_to_none=True)\n",
    "    for step, batch in enumerate(TrainLoader, start=1):\n",
    "        batch = {key: value.to(device) for key, value in batch.items()}\n",
    "        outputs = model(**batch)\n",
    "        loss = outputs.loss / gradient_accumulation_steps\n",
    "        loss.backward()\n",
    "\n",
    "        running_loss += outputs.loss.float().item()\n",
    "        running_steps += 1\n",
    "\n",
    "        if step % gradient_accumulation_steps == 0 or step == len(TrainLoader):\n",
    "            torch.nn.utils.clip_grad_norm_(model.parameters(), max_norm=1.0)\n",
    "            optimizer.step()\n",
    "            scheduler.step()\n",
    "            optimizer.zero_grad(set_to_none=True)\n",
    "            global_step += 1\n",
    "\n",
    "            if global_step % logging_frequency == 0:\n",
    "                current_lr = scheduler.get_last_lr()[0]\n",
    "                mean_loss = running_loss / running_steps\n",
    "                print(f\"step={global_step:05d} | loss={mean_loss:.4f} | lr={current_lr:.2e}\")\n",
    "                running_loss = 0.0\n",
    "                running_steps = 0\n",
    "\n",
    "    train_loss = running_loss / running_steps if running_steps > 0 else float(\"nan\")\n",
    "    print(f\"Training loss after epoch {epoch + 1}: {train_loss:.4f}\")\n",
    "    \n",
    "    model.eval()\n",
    "    losses = []\n",
    "    with torch.no_grad():\n",
    "        for _, batch in enumerate(EvalLoader, start=1):\n",
    "            batch = {key: value.to(device) for key, value in batch.items()}\n",
    "            loss = model(**batch).loss\n",
    "            losses.append(loss.float().item())\n",
    "    model.train()\n",
    "    val_loss = sum(losses) / len(losses) if losses else float(\"nan\")\n",
    "        \n",
    "    print(f\"Validation loss after epoch {epoch + 1}: {val_loss:.4f}\")\n",
    "\n",
    "print(\"Training complete.\")"
   ]
  }
 ],
 "metadata": {
  "kernelspec": {
   "display_name": ".venv",
   "language": "python",
   "name": "python3"
  },
  "language_info": {
   "codemirror_mode": {
    "name": "ipython",
    "version": 3
   },
   "file_extension": ".py",
   "mimetype": "text/x-python",
   "name": "python",
   "nbconvert_exporter": "python",
   "pygments_lexer": "ipython3",
   "version": "3.10.18"
  }
 },
 "nbformat": 4,
 "nbformat_minor": 5
}
