{
 "cells": [
  {
   "cell_type": "markdown",
   "id": "b7eb261b",
   "metadata": {},
   "source": [
    "ooks"
   ]
  },
  {
   "cell_type": "markdown",
   "id": "8b8a04a8",
   "metadata": {},
   "source": [
    "## Import model and tokenizer\n"
   ]
  },
  {
   "cell_type": "code",
   "execution_count": null,
   "id": "3e48247c",
   "metadata": {},
   "outputs": [],
   "source": [
    "import torch\n",
    "from torch.utils.data import DataLoader\n",
    "from datasets import load_dataset\n",
    "from transformers import AutoModelForCausalLM, AutoTokenizer, get_linear_schedule_with_warmup\n",
    "\n",
    "\n",
    "model_id = \"karpathy/nanochat-d32\"\n",
    "revision = \"refs/pr/1\"\n",
    "device = torch.device(\"cuda\" if torch.cuda.is_available() else \"cpu\")\n",
    "\n",
    "\n",
    "tokenizer = AutoTokenizer.from_pretrained(model_id, revision=revision)\n",
    "model = AutoModelForCausalLM.from_pretrained(\n",
    "    model_id,\n",
    "    revision=revision,\n",
    "    torch_dtype=torch.bfloat16 if device.type == \"cuda\" else torch.float32,\n",
    ").to(device)\n"
   ]
  },
  {
   "cell_type": "markdown",
   "id": "c9a9c0a4",
   "metadata": {},
   "source": [
    "## Setup LoRA\n"
   ]
  },
  {
   "cell_type": "code",
   "execution_count": null,
   "id": "dd9a698a",
   "metadata": {},
   "outputs": [],
   "source": [
    "from peft import LoraConfig, get_peft_model\n",
    "\n",
    "lora_config = LoraConfig(\n",
    "    r=1,\n",
    "    lora_alpha=2,\n",
    "    lora_dropout=0.00,\n",
    "    task_type=\"CAUSAL_LM\",\n",
    "    target_modules=[\"q_proj\", \"k_proj\", \"v_proj\", \"o_proj\", \"fc1\", \"fc2\"]\n",
    ")\n",
    "\n",
    "model = get_peft_model(model, lora_config)\n",
    "model.print_trainable_parameters()\n"
   ]
  },
  {
   "cell_type": "markdown",
   "id": "4810af1a",
   "metadata": {},
   "source": [
    "## Demo the model\n"
   ]
  },
  {
   "cell_type": "code",
   "execution_count": null,
   "id": "b3e81aa9",
   "metadata": {},
   "outputs": [],
   "source": [
    "print(\"=\" * 80)\n",
    "print(\"TEST 1: Plain Autoregressive Prompt\")\n",
    "print(\"=\" * 80)\n",
    "prompt = \"The Eiffel Tower stands in Paris and\"\n",
    "test_inputs = tokenizer(prompt, return_tensors=\"pt\").to(device)\n",
    "\n",
    "\n",
    "with torch.no_grad():\n",
    "    test_outputs = model.generate(\n",
    "        **test_inputs,\n",
    "        max_new_tokens=64,\n",
    "        do_sample=False,\n",
    "        pad_token_id=tokenizer.pad_token_id,\n",
    "    )\n",
    "\n",
    "generated_tokens = test_outputs[0, test_inputs[\"input_ids\"].shape[1] :]\n",
    "print(f\"Prompt: {prompt}\")\n",
    "print(f\"\\nGenerated: {tokenizer.decode(generated_tokens, skip_special_tokens=True)}\")\n",
    "print(\"=\" * 80)\n"
   ]
  },
  {
   "cell_type": "code",
   "execution_count": null,
   "id": "8e7b275c",
   "metadata": {},
   "outputs": [],
   "source": [
    "print(\"=\" * 80)\n",
    "print(\"TEST 2: Chat Template\")\n",
    "print(\"=\"*80)\n",
    "conversation = [\n",
    "    {\"role\": \"user\", \"content\": \"What is the capital of France?\"},\n",
    "]\n",
    "\n",
    "inputs = tokenizer.apply_chat_template(\n",
    "    conversation, add_generation_prompt=True, tokenize=True, return_dict=True, return_tensors=\"pt\"\n",
    ").to(device)\n",
    "\n",
    "print(f\"Formatted prompt: {tokenizer.decode(inputs['input_ids'][0])}\")\n",
    "print(f\"Input IDs: {inputs['input_ids'][0].tolist()}\")\n",
    "\n",
    "with torch.no_grad():\n",
    "    outputs = model.generate(\n",
    "        **inputs,\n",
    "        max_new_tokens=64,\n",
    "        do_sample=False\n",
    "    )\n",
    "\n",
    "generated_tokens = outputs[0, inputs[\"input_ids\"].shape[1] :]\n",
    "print(f\"\\nGenerated: {tokenizer.decode(generated_tokens)}\")\n",
    "print(\"=\" * 80)\n"
   ]
  },
  {
   "cell_type": "markdown",
   "id": "44cb321a",
   "metadata": {},
   "source": [
    "## Dataset\n"
   ]
  }
 ],
 "metadata": {
  "language_info": {
   "name": "python"
  }
 },
 "nbformat": 4,
 "nbformat_minor": 5
}
