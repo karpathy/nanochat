{
 "cells": [
  {
   "cell_type": "markdown",
   "id": "b7eb261b",
   "metadata": {},
   "source": [
    "# NanoChat Easy - SFT Training\n"
   ]
  },
  {
   "cell_type": "markdown",
   "id": "8b8a04a8",
   "metadata": {},
   "source": [
    "## Import model and tokenizer\n"
   ]
  },
  {
   "cell_type": "code",
   "execution_count": 1,
   "id": "3e48247c",
   "metadata": {},
   "outputs": [
    {
     "name": "stderr",
     "output_type": "stream",
     "text": [
      "/fsx/benjamin_burtenshaw/nanochat_/.venv/lib/python3.10/site-packages/tqdm/auto.py:21: TqdmWarning: IProgress not found. Please update jupyter and ipywidgets. See https://ipywidgets.readthedocs.io/en/stable/user_install.html\n",
      "  from .autonotebook import tqdm as notebook_tqdm\n",
      "`torch_dtype` is deprecated! Use `dtype` instead!\n"
     ]
    }
   ],
   "source": [
    "import torch\n",
    "from torch.utils.data import DataLoader\n",
    "from datasets import load_dataset\n",
    "from transformers import AutoModelForCausalLM, AutoTokenizer, get_linear_schedule_with_warmup\n",
    "\n",
    "\n",
    "model_id = \"karpathy/nanochat-d32\"\n",
    "revision = \"refs/pr/1\"\n",
    "device = torch.device(\"cuda\" if torch.cuda.is_available() else \"cpu\")\n",
    "\n",
    "\n",
    "tokenizer = AutoTokenizer.from_pretrained(model_id, revision=revision)\n",
    "model = AutoModelForCausalLM.from_pretrained(\n",
    "    model_id,\n",
    "    revision=revision,\n",
    "    torch_dtype=torch.bfloat16 if device.type == \"cuda\" else torch.float32,\n",
    ").to(device)\n"
   ]
  },
  {
   "cell_type": "markdown",
   "id": "c9a9c0a4",
   "metadata": {},
   "source": [
    "## Setup LoRA\n"
   ]
  },
  {
   "cell_type": "code",
   "execution_count": null,
   "id": "dd9a698a",
   "metadata": {},
   "outputs": [],
   "source": [
    "from peft import LoraConfig, get_peft_model\n",
    "\n",
    "lora_config = LoraConfig(\n",
    "    r=1,\n",
    "    lora_alpha=2,\n",
    "    lora_dropout=0.00,\n",
    "    task_type=\"CAUSAL_LM\",\n",
    "    target_modules=[\"q_proj\", \"k_proj\", \"v_proj\", \"o_proj\", \"fc1\", \"fc2\"]\n",
    ")\n",
    "\n",
    "model = get_peft_model(model, lora_config)\n",
    "model.print_trainable_parameters()\n"
   ]
  },
  {
   "cell_type": "markdown",
   "id": "4810af1a",
   "metadata": {},
   "source": [
    "## Demo the model\n"
   ]
  },
  {
   "cell_type": "code",
   "execution_count": null,
   "id": "b3e81aa9",
   "metadata": {},
   "outputs": [],
   "source": [
    "print(\"=\" * 80)\n",
    "print(\"TEST 1: Plain Autoregressive Prompt\")\n",
    "print(\"=\" * 80)\n",
    "prompt = \"The Eiffel Tower stands in Paris and\"\n",
    "test_inputs = tokenizer(prompt, return_tensors=\"pt\").to(device)\n",
    "\n",
    "\n",
    "with torch.no_grad():\n",
    "    test_outputs = model.generate(\n",
    "        **test_inputs,\n",
    "        max_new_tokens=64,\n",
    "        do_sample=False,\n",
    "        pad_token_id=tokenizer.pad_token_id,\n",
    "    )\n",
    "\n",
    "generated_tokens = test_outputs[0, test_inputs[\"input_ids\"].shape[1] :]\n",
    "print(f\"Prompt: {prompt}\")\n",
    "print(f\"\\nGenerated: {tokenizer.decode(generated_tokens, skip_special_tokens=True)}\")\n",
    "print(\"=\" * 80)\n"
   ]
  },
  {
   "cell_type": "code",
   "execution_count": null,
   "id": "8e7b275c",
   "metadata": {},
   "outputs": [],
   "source": [
    "print(\"=\" * 80)\n",
    "print(\"TEST 2: Chat Template\")\n",
    "print(\"=\"*80)\n",
    "conversation = [\n",
    "    {\"role\": \"user\", \"content\": \"What is the capital of France?\"},\n",
    "]\n",
    "\n",
    "inputs = tokenizer.apply_chat_template(\n",
    "    conversation, add_generation_prompt=True, tokenize=True, return_dict=True, return_tensors=\"pt\"\n",
    ").to(device)\n",
    "\n",
    "print(f\"Formatted prompt: {tokenizer.decode(inputs['input_ids'][0])}\")\n",
    "print(f\"Input IDs: {inputs['input_ids'][0].tolist()}\")\n",
    "\n",
    "with torch.no_grad():\n",
    "    outputs = model.generate(\n",
    "        **inputs,\n",
    "        max_new_tokens=64,\n",
    "        do_sample=False\n",
    "    )\n",
    "\n",
    "generated_tokens = outputs[0, inputs[\"input_ids\"].shape[1] :]\n",
    "print(f\"\\nGenerated: {tokenizer.decode(generated_tokens)}\")\n",
    "print(\"=\" * 80)\n"
   ]
  },
  {
   "cell_type": "markdown",
   "id": "44cb321a",
   "metadata": {},
   "source": [
    "## Dataset\n"
   ]
  },
  {
   "cell_type": "code",
   "execution_count": null,
   "id": "e1a75c14",
   "metadata": {},
   "outputs": [],
   "source": [
    "raw_dataset = load_dataset(\"HuggingFaceTB/smoltalk2\", \"SFT\", split=\"OpenThoughts3_1.2M_think\")\n",
    "splits = raw_dataset.train_test_split(test_size=0.1, seed=42)\n",
    "train_dataset = splits[\"train\"]\n",
    "eval_dataset = splits[\"test\"]\n"
   ]
  },
  {
   "cell_type": "markdown",
   "id": "8b29399d",
   "metadata": {},
   "source": [
    "### Process the Dataset\n"
   ]
  },
  {
   "cell_type": "code",
   "execution_count": null,
   "id": "451542b4",
   "metadata": {},
   "outputs": [],
   "source": [
    "max_length = 2048\n",
    "max_train_examples = None\n",
    "max_eval_examples = None\n",
    "\n",
    "def format_example(example):\n",
    "    formatted = tokenizer.apply_chat_template(\n",
    "        example[\"messages\"],\n",
    "        add_generation_prompt=False,\n",
    "        truncation=True,\n",
    "        max_length=max_length,\n",
    "        padding=False,\n",
    "        return_dict=True,\n",
    "        return_tensors=\"pt\",\n",
    "    )\n",
    "    return {\n",
    "        \"input_ids\": formatted[\"input_ids\"][0].tolist(),\n",
    "        \"attention_mask\": formatted[\"attention_mask\"][0].tolist(),\n",
    "    }\n",
    "\n",
    "\n",
    "if max_train_examples is not None:\n",
    "    train_dataset = train_dataset.select(range(min(len(train_dataset), max_train_examples)))\n",
    "    train_dataset = train_dataset.map(format_example, remove_columns=train_dataset.column_names)\n",
    "else:\n",
    "    train_dataset = train_dataset.map(format_example, remove_columns=train_dataset.column_names)\n",
    "    \n",
    "if max_eval_examples is not None:\n",
    "    eval_dataset = eval_dataset.select(range(min(len(eval_dataset), max_eval_examples)))\n",
    "    eval_dataset = eval_dataset.map(format_example, remove_columns=eval_dataset.column_names)\n",
    "else:\n",
    "    eval_dataset = eval_dataset.map(format_example, remove_columns=eval_dataset.column_names)\n"
   ]
  },
  {
   "cell_type": "markdown",
   "id": "ecd33dd7",
   "metadata": {},
   "source": [
    "## Training Configuration"
   ]
  },
  {
   "cell_type": "code",
   "execution_count": null,
   "id": "f9d837ee",
   "metadata": {},
   "outputs": [],
   "source": [
    "train_batch_size = 2\n",
    "eval_batch_size = 2\n",
    "num_epochs = 1\n",
    "gradient_accumulation_steps = 4\n",
    "learning_rate = 1e-5\n",
    "weight_decay = 0.0\n",
    "warmup_ratio = 0.03\n",
    "logging_frequency = 10\n"
   ]
  },
  {
   "cell_type": "markdown",
   "id": "1cf11e96",
   "metadata": {},
   "source": [
    "## Create a `DataLoader` 👴"
   ]
  },
  {
   "cell_type": "code",
   "execution_count": null,
   "id": "1bc4fa24",
   "metadata": {},
   "outputs": [],
   "source": [
    "def collate_fn(batch):\n",
    "    batch_dict = {\n",
    "        \"input_ids\": [record[\"input_ids\"] for record in batch],\n",
    "        \"attention_mask\": [record[\"attention_mask\"] for record in batch],\n",
    "    }\n",
    "    padded = tokenizer.pad(batch_dict, padding=True, return_tensors=\"pt\")\n",
    "    labels = padded[\"input_ids\"].clone()\n",
    "    labels[padded[\"attention_mask\"] == 0] = -100\n",
    "    padded[\"labels\"] = labels\n",
    "    return padded\n",
    "\n",
    "\n",
    "TrainLoader = DataLoader(train_dataset, batch_size=train_batch_size, shuffle=True, collate_fn=collate_fn)\n",
    "EvalLoader = DataLoader(eval_dataset, batch_size=eval_batch_size, shuffle=False, collate_fn=collate_fn)\n"
   ]
  },
  {
   "cell_type": "markdown",
   "id": "f5965d1b",
   "metadata": {},
   "source": [
    "## Optimizer"
   ]
  },
  {
   "cell_type": "code",
   "execution_count": null,
   "id": "f57c7be2",
   "metadata": {},
   "outputs": [],
   "source": [
    "optimizer = torch.optim.AdamW(\n",
    "    model.parameters(),\n",
    "    lr=learning_rate,\n",
    "    weight_decay=weight_decay,\n",
    ")\n"
   ]
  },
  {
   "cell_type": "markdown",
   "id": "215f8782",
   "metadata": {},
   "source": [
    "# Learning Rate Scheduler"
   ]
  },
  {
   "cell_type": "code",
   "execution_count": null,
   "id": "034e2903",
   "metadata": {},
   "outputs": [],
   "source": [
    "num_update_steps_per_epoch = max(len(TrainLoader) // gradient_accumulation_steps, 1)\n",
    "max_train_steps = num_epochs * num_update_steps_per_epoch\n",
    "warmup_steps = max(1, int(max_train_steps * warmup_ratio))\n",
    "scheduler = get_linear_schedule_with_warmup(optimizer, warmup_steps, max_train_steps)\n"
   ]
  },
  {
   "cell_type": "markdown",
   "id": "0f0090b6",
   "metadata": {},
   "source": [
    "# The Training Loop"
   ]
  },
  {
   "cell_type": "code",
   "execution_count": null,
   "id": "1540e30a",
   "metadata": {},
   "outputs": [],
   "source": [
    "\n",
    "model.train()\n",
    "global_step = 0\n",
    "running_loss = 0.0\n",
    "running_steps = 0\n",
    "\n",
    "for epoch in range(num_epochs):\n",
    "    print(f\"Epoch {epoch + 1}/{num_epochs}\")\n",
    "    optimizer.zero_grad(set_to_none=True)\n",
    "    for step, batch in enumerate(TrainLoader, start=1):\n",
    "        batch = {key: value.to(device) for key, value in batch.items()}\n",
    "        outputs = model(**batch)\n",
    "        loss = outputs.loss / gradient_accumulation_steps\n",
    "        loss.backward()\n",
    "\n",
    "        running_loss += outputs.loss.float().item()\n",
    "        running_steps += 1\n",
    "\n",
    "        if step % gradient_accumulation_steps == 0 or step == len(TrainLoader):\n",
    "            torch.nn.utils.clip_grad_norm_(model.parameters(), max_norm=1.0)\n",
    "            optimizer.step()\n",
    "            scheduler.step()\n",
    "            optimizer.zero_grad(set_to_none=True)\n",
    "            global_step += 1\n",
    "\n",
    "            if global_step % logging_frequency == 0:\n",
    "                current_lr = scheduler.get_last_lr()[0]\n",
    "                mean_loss = running_loss / running_steps\n",
    "                print(f\"step={global_step:05d} | loss={mean_loss:.4f} | lr={current_lr:.2e}\")\n",
    "                running_loss = 0.0\n",
    "                running_steps = 0\n",
    "\n",
    "    train_loss = running_loss / running_steps if running_steps > 0 else float(\"nan\")\n",
    "    print(f\"Training loss after epoch {epoch + 1}: {train_loss:.4f}\")\n",
    "    \n",
    "    model.eval()\n",
    "    losses = []\n",
    "    with torch.no_grad():\n",
    "        for _, batch in enumerate(EvalLoader, start=1):\n",
    "            batch = {key: value.to(device) for key, value in batch.items()}\n",
    "            loss = model(**batch).loss\n",
    "            losses.append(loss.float().item())\n",
    "    model.train()\n",
    "    val_loss = sum(losses) / len(losses) if losses else float(\"nan\")\n",
    "        \n",
    "    print(f\"Validation loss after epoch {epoch + 1}: {val_loss:.4f}\")\n",
    "\n",
    "print(\"Training complete.\")\n"
   ]
  }
 ],
 "metadata": {
  "kernelspec": {
   "display_name": ".venv",
   "language": "python",
   "name": "python3"
  },
  "language_info": {
   "codemirror_mode": {
    "name": "ipython",
    "version": 3
   },
   "file_extension": ".py",
   "mimetype": "text/x-python",
   "name": "python",
   "nbconvert_exporter": "python",
   "pygments_lexer": "ipython3",
   "version": "3.10.18"
  }
 },
 "nbformat": 4,
 "nbformat_minor": 5
}
